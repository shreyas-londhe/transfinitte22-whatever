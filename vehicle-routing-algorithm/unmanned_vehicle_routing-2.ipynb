{
  "cells": [
    {
      "cell_type": "markdown",
      "metadata": {
        "id": "AejMqbnxCfgK"
      },
      "source": [
        "# Capacited Vehicle Routing"
      ]
    },
    {
      "cell_type": "markdown",
      "metadata": {
        "id": "Bw6UOtmgCfgN"
      },
      "source": [
        "Importing required libraries from Google OR-Tools."
      ]
    },
    {
      "cell_type": "code",
      "execution_count": null,
      "metadata": {
        "id": "W9h9S0ziCfgO"
      },
      "outputs": [],
      "source": [
        "from ortools.constraint_solver import routing_enums_pb2\n",
        "from ortools.constraint_solver import pywrapcp\n",
        "import urllib.request\n",
        "import json\n",
        "import math\n",
        "import numpy as np\n",
        "import matplotlib.pyplot as plt"
      ]
    },
    {
      "cell_type": "code",
      "execution_count": null,
      "metadata": {
        "id": "ga1uHJZOCfgQ"
      },
      "outputs": [],
      "source": [
        "locations=[(0,0),(200,600),(500,800),(400,-200),(-1000,-100),(-300,-300),(-50,50),(-600,200),(-600,0)]\n",
        "dist_mat=[[-1]*len(locations) for i in range(len(locations))]\n",
        "for i in range(0,len(locations)):\n",
        "    for j in range(i,len(locations)):\n",
        "        dist_mat[i][j]=dist_mat[j][i]=int(math.sqrt((locations[i][0]-locations[j][0])**2+(locations[i][1]-locations[j][1])**2))  "
      ]
    },
    {
      "cell_type": "markdown",
      "metadata": {
        "id": "oRhh1JjKCfgR"
      },
      "source": [
        "Get data for the problem."
      ]
    },
    {
      "cell_type": "code",
      "execution_count": null,
      "metadata": {
        "id": "8EihHt0oCfgR"
      },
      "outputs": [],
      "source": [
        "def create_data_model():\n",
        "    \"\"\"Stores the data for the problem.\"\"\"\n",
        "    data = {}\n",
        "     # Depot(2k), Zircon, Aquamarine, Opal, OJAS, Admin,Beryl,Garnet,Orion\n",
        "    data['distance_matrix'] = dist_mat\n",
        "    data['demands'] = [0, 1, 1, 2, 4, 2, 1, 2, 3]\n",
        "    data['vehicle_capacities'] = [5, 5, 5, 5]\n",
        "    data['num_vehicles'] = 4\n",
        "    data['depot'] = 0\n",
        "    data['locations']=locations\n",
        "    return data"
      ]
    },
    {
      "cell_type": "code",
      "execution_count": null,
      "metadata": {
        "id": "mfDtPtxSCfgS"
      },
      "outputs": [],
      "source": [
        "d=create_data_model()"
      ]
    },
    {
      "cell_type": "code",
      "execution_count": null,
      "metadata": {
        "colab": {
          "base_uri": "https://localhost:8080/",
          "height": 863
        },
        "id": "l9yVQV_3CfgS",
        "outputId": "a8a3bc4d-f620-4d25-d666-04def09eabb3"
      },
      "outputs": [
        {
          "output_type": "display_data",
          "data": {
            "text/plain": [
              "<Figure size 1080x1080 with 1 Axes>"
            ],
            "image/png": "[encoded data removed]"
          },
          "metadata": {
            "needs_background": "light"
          }
        }
      ],
      "source": [
        "fig=plt.figure(figsize=(15,15))\n",
        "plt.xlim(-1100,900)\n",
        "plt.ylim(-600,900)\n",
        "plt.grid()\n",
        "r=['Depot2k', 'Zircon', 'Aquamarine', 'Opal', 'OJAS', 'Admin','Beryl','Garnet','Orion']\n",
        "for i in d['locations']:\n",
        "    if i[0] == 0 and i[1] == 0:\n",
        "        plt.plot(i[0], i[1], marker=\"o\", markersize=8, markeredgecolor=\"red\", markerfacecolor=\"red\")\n",
        "    else:\n",
        "        plt.plot(i[0], i[1], marker=\"o\", markersize=8, markeredgecolor=\"blue\", markerfacecolor=\"blue\")\n",
        "for i in range(len(locations)):\n",
        "  plt.annotate(r[i],locations[i],fontsize=20)\n",
        "plt.show()"
      ]
    },
    {
      "cell_type": "code",
      "source": [
        "locations[1][0]"
      ],
      "metadata": {
        "colab": {
          "base_uri": "https://localhost:8080/"
        },
        "id": "j4xKRimeL5mu",
        "outputId": "10f673ed-a3b8-49e5-f83a-bff127328348"
      },
      "execution_count": null,
      "outputs": [
        {
          "output_type": "execute_result",
          "data": {
            "text/plain": [
              "200"
            ]
          },
          "metadata": {},
          "execution_count": 67
        }
      ]
    },
    {
      "cell_type": "markdown",
      "metadata": {
        "id": "jAn1NPxACfgT"
      },
      "source": [
        "Helper function to print the solution."
      ]
    },
    {
      "cell_type": "code",
      "execution_count": null,
      "metadata": {
        "id": "1uB7Pi0xCfgU"
      },
      "outputs": [],
      "source": [
        "def print_solution(data, manager, routing, solution):\n",
        "    \"\"\"Prints solution on console.\"\"\"\n",
        "    print(f'Objective: {solution.ObjectiveValue()}')\n",
        "    total_distance = 0\n",
        "    total_load = 0\n",
        "    for vehicle_id in range(data['num_vehicles']):\n",
        "        index = routing.Start(vehicle_id)\n",
        "        plan_output = 'Route for vehicle {}:\\n'.format(vehicle_id)\n",
        "        route_distance = 0\n",
        "        route_load = 0\n",
        "        while not routing.IsEnd(index):\n",
        "            node_index = manager.IndexToNode(index)\n",
        "            route_load += data['demands'][node_index]\n",
        "            plan_output += ' {0} Load({1}) -> '.format(node_index, route_load)\n",
        "            previous_index = index\n",
        "            index = solution.Value(routing.NextVar(index))\n",
        "            route_distance += routing.GetArcCostForVehicle(\n",
        "                previous_index, index, vehicle_id)\n",
        "        plan_output += ' {0} Load({1})\\n'.format(manager.IndexToNode(index),\n",
        "                                                 route_load)\n",
        "        plan_output += 'Distance of the route: {}m\\n'.format(route_distance)\n",
        "        plan_output += 'Load of the route: {}\\n'.format(route_load)\n",
        "        print(plan_output)\n",
        "        total_distance += route_distance\n",
        "        total_load += route_load\n",
        "    print('Total distance of all routes: {}m'.format(total_distance))\n",
        "    print('Total load of all routes: {}'.format(total_load))"
      ]
    },
    {
      "cell_type": "markdown",
      "metadata": {
        "id": "CREh84m1CfgV"
      },
      "source": [
        "Instantiating the data problem."
      ]
    },
    {
      "cell_type": "code",
      "execution_count": null,
      "metadata": {
        "id": "Io6tiBXbCfgV"
      },
      "outputs": [],
      "source": [
        "data = create_data_model()"
      ]
    },
    {
      "cell_type": "markdown",
      "metadata": {
        "id": "foyncnA0CfgV"
      },
      "source": [
        "Create the routing index manager."
      ]
    },
    {
      "cell_type": "code",
      "execution_count": null,
      "metadata": {
        "id": "vB7SOI-jCfgV"
      },
      "outputs": [],
      "source": [
        "manager = pywrapcp.RoutingIndexManager(len(data['distance_matrix']),\n",
        "                                           data['num_vehicles'], data['depot'])"
      ]
    },
    {
      "cell_type": "markdown",
      "metadata": {
        "id": "1qPegtNuCfgW"
      },
      "source": [
        "Create routing model."
      ]
    },
    {
      "cell_type": "code",
      "execution_count": null,
      "metadata": {
        "id": "7x0ce8FpCfgW"
      },
      "outputs": [],
      "source": [
        "routing = pywrapcp.RoutingModel(manager)"
      ]
    },
    {
      "cell_type": "markdown",
      "metadata": {
        "id": "Kbgubt-rCfgW"
      },
      "source": [
        "Create and register a transit callback."
      ]
    },
    {
      "cell_type": "code",
      "execution_count": null,
      "metadata": {
        "id": "bMg4ZvsfCfgW"
      },
      "outputs": [],
      "source": [
        "def distance_callback(from_index, to_index):\n",
        "        \"\"\"Returns the distance between the two nodes.\"\"\"\n",
        "        # Convert from routing variable Index to distance matrix NodeIndex.\n",
        "        from_node = manager.IndexToNode(from_index)\n",
        "        to_node = manager.IndexToNode(to_index)\n",
        "        return data['distance_matrix'][from_node][to_node]\n",
        "\n",
        "transit_callback_index = routing.RegisterTransitCallback(distance_callback)"
      ]
    },
    {
      "cell_type": "markdown",
      "metadata": {
        "id": "OOPoZFixCfgX"
      },
      "source": [
        "Define cost of each arc."
      ]
    },
    {
      "cell_type": "code",
      "execution_count": null,
      "metadata": {
        "id": "VhKb6PH6CfgX"
      },
      "outputs": [],
      "source": [
        "routing.SetArcCostEvaluatorOfAllVehicles(transit_callback_index)"
      ]
    },
    {
      "cell_type": "markdown",
      "metadata": {
        "id": "PIkiqNthCfgX"
      },
      "source": [
        "Add Capacity constraint."
      ]
    },
    {
      "cell_type": "code",
      "execution_count": null,
      "metadata": {
        "colab": {
          "base_uri": "https://localhost:8080/"
        },
        "id": "-W91UrmDCfgX",
        "outputId": "9c953556-a0c7-455a-cc17-c73b80a67e12"
      },
      "outputs": [
        {
          "output_type": "execute_result",
          "data": {
            "text/plain": [
              "True"
            ]
          },
          "metadata": {},
          "execution_count": 30
        }
      ],
      "source": [
        "def demand_callback(from_index):\n",
        "    \"\"\"Returns the demand of the node.\"\"\"\n",
        "    # Convert from routing variable Index to demands NodeIndex.\n",
        "    from_node = manager.IndexToNode(from_index)\n",
        "    return data['demands'][from_node]\n",
        "\n",
        "demand_callback_index = routing.RegisterUnaryTransitCallback(\n",
        "    demand_callback)\n",
        "routing.AddDimensionWithVehicleCapacity(\n",
        "    demand_callback_index,\n",
        "    0,  # null capacity slack\n",
        "    data['vehicle_capacities'],  # vehicle maximum capacities\n",
        "    True,  # start cumul to zero\n",
        "    'Capacity')"
      ]
    },
    {
      "cell_type": "markdown",
      "metadata": {
        "id": "fD3la6bHCfgX"
      },
      "source": [
        "Setting first solution heuristic."
      ]
    },
    {
      "cell_type": "code",
      "execution_count": null,
      "metadata": {
        "id": "2uWfwnnJCfgY"
      },
      "outputs": [],
      "source": [
        "search_parameters = pywrapcp.DefaultRoutingSearchParameters()\n",
        "search_parameters.first_solution_strategy = (\n",
        "    routing_enums_pb2.FirstSolutionStrategy.PATH_CHEAPEST_ARC)\n",
        "search_parameters.local_search_metaheuristic = (\n",
        "    routing_enums_pb2.LocalSearchMetaheuristic.GUIDED_LOCAL_SEARCH)\n",
        "search_parameters.time_limit.FromSeconds(1)"
      ]
    },
    {
      "cell_type": "markdown",
      "metadata": {
        "id": "lfsQcnoXCfgY"
      },
      "source": [
        "Solve the problem."
      ]
    },
    {
      "cell_type": "code",
      "execution_count": null,
      "metadata": {
        "colab": {
          "base_uri": "https://localhost:8080/"
        },
        "id": "IJV6TCaJCfgY",
        "outputId": "aa8f34cf-0555-4ad6-a2f9-7f466b7dfc86"
      },
      "outputs": [
        {
          "output_type": "stream",
          "name": "stdout",
          "text": [
            "Objective: 6758\n",
            "Route for vehicle 0:\n",
            " 0 Load(0) ->  5 Load(2) ->  0 Load(2)\n",
            "Distance of the route: 848m\n",
            "Load of the route: 2\n",
            "\n",
            "Route for vehicle 1:\n",
            " 0 Load(0) ->  7 Load(2) ->  8 Load(5) ->  0 Load(5)\n",
            "Distance of the route: 1432m\n",
            "Load of the route: 5\n",
            "\n",
            "Route for vehicle 2:\n",
            " 0 Load(0) ->  1 Load(1) ->  2 Load(2) ->  3 Load(4) ->  0 Load(4)\n",
            "Distance of the route: 2443m\n",
            "Load of the route: 4\n",
            "\n",
            "Route for vehicle 3:\n",
            " 0 Load(0) ->  6 Load(1) ->  4 Load(5) ->  0 Load(5)\n",
            "Distance of the route: 2035m\n",
            "Load of the route: 5\n",
            "\n",
            "Total distance of all routes: 6758m\n",
            "Total load of all routes: 16\n"
          ]
        }
      ],
      "source": [
        "solution = routing.SolveWithParameters(search_parameters)\n",
        "\n",
        "if solution:\n",
        "    print_solution(data, manager, routing, solution)\n",
        "else:\n",
        "    print('No solution found !')"
      ]
    },
    {
      "cell_type": "code",
      "source": [
        "def get_routes(solution, routing, manager):\n",
        "  \"\"\"Get vehicle routes from a solution and store them in an array.\"\"\"\n",
        "  # Get vehicle routes and store them in a two dimensional array whose\n",
        "  # i,j entry is the jth location visited by vehicle i along its route.\n",
        "  routes = []\n",
        "  for route_nbr in range(routing.vehicles()):\n",
        "    index = routing.Start(route_nbr)\n",
        "    route = [manager.IndexToNode(index)]\n",
        "    while not routing.IsEnd(index):\n",
        "      index = solution.Value(routing.NextVar(index))\n",
        "      route.append(manager.IndexToNode(index))\n",
        "    routes.append(route)\n",
        "  return routes\n",
        "routes = get_routes(solution, routing, manager)"
      ],
      "metadata": {
        "id": "mjLkwZ-_FsPO"
      },
      "execution_count": null,
      "outputs": []
    },
    {
      "cell_type": "code",
      "source": [
        "solution"
      ],
      "metadata": {
        "colab": {
          "base_uri": "https://localhost:8080/"
        },
        "id": "FshmYmDiDIXE",
        "outputId": "24c6d7a3-375d-47b5-b605-30fb293dc5e4"
      },
      "execution_count": null,
      "outputs": [
        {
          "output_type": "execute_result",
          "data": {
            "text/plain": [
              "<ortools.constraint_solver.pywrapcp.Assignment; proxy of <Swig Object of type 'operations_research::Assignment *' at 0x7f4cb12e59f0> >"
            ]
          },
          "metadata": {},
          "execution_count": 34
        }
      ]
    },
    {
      "cell_type": "code",
      "source": [
        "solution.Value(routing.NextVar(2))"
      ],
      "metadata": {
        "colab": {
          "base_uri": "https://localhost:8080/"
        },
        "id": "BTzd_flQDraN",
        "outputId": "86d136e7-f3c8-4088-f9bf-52da232a0fa5"
      },
      "execution_count": null,
      "outputs": [
        {
          "output_type": "execute_result",
          "data": {
            "text/plain": [
              "3"
            ]
          },
          "metadata": {},
          "execution_count": 37
        }
      ]
    },
    {
      "cell_type": "code",
      "source": [
        "routes"
      ],
      "metadata": {
        "colab": {
          "base_uri": "https://localhost:8080/"
        },
        "id": "sDQlAM1XFDig",
        "outputId": "1b48216b-ab9d-40ee-af8c-5ae81c8da910"
      },
      "execution_count": null,
      "outputs": [
        {
          "output_type": "execute_result",
          "data": {
            "text/plain": [
              "[[0, 5, 0], [0, 7, 8, 0], [0, 1, 2, 3, 0], [0, 6, 4, 0]]"
            ]
          },
          "metadata": {},
          "execution_count": 42
        }
      ]
    },
    {
      "cell_type": "code",
      "source": [
        "fig=plt.figure(figsize=(15,15))\n",
        "plt.xlim(-1100,900)\n",
        "plt.ylim(-600,900)\n",
        "plt.grid()\n",
        "for i in d['locations']:\n",
        "    if i[0] == 0 and i[1] == 0:\n",
        "        plt.plot(i[0], i[1], marker=\"o\", markersize=8, markeredgecolor=\"red\", markerfacecolor=\"red\")\n",
        "    else:\n",
        "        plt.plot(i[0], i[1], marker=\"o\", markersize=8, markeredgecolor=\"blue\", markerfacecolor=\"blue\")\n",
        "colors=['yellow','green','orange','pink']\n",
        "for i in range(len(routes)):\n",
        "  for j in range(len(routes[i])-1):\n",
        "\n",
        "    plt.arrow(locations[routes[i][j]][0],locations[routes[i][j]][1],(locations[routes[i][j+1]][0]-locations[routes[i][j]][0])*0.92,(locations[routes[i][j+1]][1]-locations[routes[i][j]][1])*0.92,color=colors[i],linestyle='-',width=5,head_width=25,label=j)\n",
        "for i in range(len(locations)):\n",
        "  plt.annotate(r[i],locations[i],fontsize=20)\n",
        "\n",
        "plt.legend()\n",
        "\n",
        "plt.show()"
      ],
      "metadata": {
        "colab": {
          "base_uri": "https://localhost:8080/",
          "height": 880
        },
        "id": "pqqds3S0F3Ho",
        "outputId": "5882cae7-883c-40b2-c1f8-b19b7e427a23"
      },
      "execution_count": null,
      "outputs": [
        {
          "output_type": "stream",
          "name": "stderr",
          "text": [
            "WARNING:matplotlib.legend:No handles with labels found to put in legend.\n"
          ]
        },
        {
          "output_type": "display_data",
          "data": {
            "text/plain": [
              "<Figure size 1080x1080 with 1 Axes>"
            ],
            "image/png": "[encoded data removed]"
          },
          "metadata": {
            "needs_background": "light"
          }
        }
      ]
    },
    {
      "cell_type": "code",
      "source": [
        "len(routes)"
      ],
      "metadata": {
        "colab": {
          "base_uri": "https://localhost:8080/"
        },
        "id": "yikoQY2UG_n8",
        "outputId": "78fc94a8-a3fe-4a9f-d6d8-34252e170931"
      },
      "execution_count": null,
      "outputs": [
        {
          "output_type": "execute_result",
          "data": {
            "text/plain": [
              "4"
            ]
          },
          "metadata": {},
          "execution_count": 52
        }
      ]
    },
    {
      "cell_type": "code",
      "source": [],
      "metadata": {
        "id": "zgFpSPJbIz3O"
      },
      "execution_count": null,
      "outputs": []
    }
  ],
  "metadata": {
    "colab": {
      "collapsed_sections": [],
      "provenance": []
    },
    "kernelspec": {
      "display_name": "Python 3.9.6 64-bit",
      "language": "python",
      "name": "python3"
    },
    "language_info": {
      "codemirror_mode": {
        "name": "ipython",
        "version": 3
      },
      "file_extension": ".py",
      "mimetype": "text/x-python",
      "name": "python",
      "nbconvert_exporter": "python",
      "pygments_lexer": "ipython3",
      "version": "3.9.6"
    },
    "vscode": {
      "interpreter": {
        "hash": "31f2aee4e71d21fbe5cf8b01ff0e069b9275f58929596ceb00d14d90e3e16cd6"
      }
    }
  },
  "nbformat": 4,
  "nbformat_minor": 0
}