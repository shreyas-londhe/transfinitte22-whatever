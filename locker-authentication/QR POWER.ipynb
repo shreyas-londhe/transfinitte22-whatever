{
 "cells": [
  {
   "cell_type": "code",
   "execution_count": 2,
   "id": "63bfd4ee",
   "metadata": {},
   "outputs": [
    {
     "name": "stdout",
     "output_type": "stream",
     "text": [
      "^C\n"
     ]
    }
   ],
   "source": [
    "!pip install opencv-python"
   ]
  },
  {
   "cell_type": "code",
   "execution_count": 1,
   "id": "6a8e69de",
   "metadata": {},
   "outputs": [],
   "source": [
    "import cv2"
   ]
  },
  {
   "cell_type": "code",
   "execution_count": 5,
   "id": "ae2af449",
   "metadata": {},
   "outputs": [],
   "source": [
    "import qrcode as qr\n",
    "import matplotlib.pyplot as plt"
   ]
  },
  {
   "cell_type": "code",
   "execution_count": 8,
   "id": "2c39af1f",
   "metadata": {},
   "outputs": [
    {
     "name": "stdout",
     "output_type": "stream",
     "text": [
      "1.new package, 2.done1\n",
      "reciever's name: Shubh\n",
      "reciever's address: AquaA\n",
      "sender's address: 2k\n",
      "reciever's contact: 9326142600\n"
     ]
    },
    {
     "data": {
      "image/png": "[encoded data removed]",
      "text/plain": [
       "<Figure size 432x288 with 1 Axes>"
      ]
     },
     "metadata": {
      "needs_background": "light"
     },
     "output_type": "display_data"
    },
    {
     "name": "stdout",
     "output_type": "stream",
     "text": [
      "1.new package, 2.done2\n",
      "[983471, -1, -1, -1, -1, -1]\n",
      "[['Shubh', 'AquaA', '2k', '9326142600', 983471]]\n"
     ]
    }
   ],
   "source": [
    "import qrcode as qr\n",
    "import numpy as np\n",
    "import cv2\n",
    "compt_array=[-1]*6\n",
    "package_info= []\n",
    "package_info\n",
    "class Package:\n",
    "    def __init__(self,name,rec_add,send_add,rec_cont):\n",
    "        self.name=name\n",
    "        self.rec_add=rec_add\n",
    "        self.send_add=send_add\n",
    "        self.rec_cont=rec_cont\n",
    "        self.id=np.random.randint(100000,999999)\n",
    "    def get_package(self):\n",
    "    \n",
    "        return [self.name,self.rec_add,self.send_add,self.rec_cont,self.id]\n",
    "\n",
    "def assign_compt(x):\n",
    "    s=0\n",
    "    while s<6 and compt_array[s]!=-1  :\n",
    "        s+=1\n",
    "    if s==6:\n",
    "        print('Bot Full')\n",
    "    else:\n",
    "        compt_array[s]=x.id\n",
    "        package_info.append(x.get_package())\n",
    "def new_package():\n",
    "    if len(package_info)==6:\n",
    "        print(\"Full\")\n",
    "        return -1\n",
    "\n",
    "    name=input(\"reciever's name: \")\n",
    "    rec_add=input(\"reciever's address: \")\n",
    "    sen_add=input(\"sender's address: \")\n",
    "    rec_contact=input(\"reciever's contact: \")\n",
    "    x=Package(name,rec_add,sen_add,rec_contact)\n",
    "    assign_compt(x)\n",
    "    s=qr.make(x.id)\n",
    "    s.save('{}.png'.format(x.id))\n",
    "    plt.imshow(s,cmap='gray')\n",
    "    plt.show()\n",
    "    \n",
    "    \n",
    "    \n",
    "  \n",
    "  \n",
    "while True:\n",
    "    q=input(\"1.new package, 2.done\")\n",
    "    if q=='2':\n",
    "        break\n",
    "    if q==\"1\":\n",
    "        new_package()\n",
    "print(compt_array)\n",
    "print(package_info)\n"
   ]
  },
  {
   "cell_type": "code",
   "execution_count": 208,
   "id": "10b76111",
   "metadata": {},
   "outputs": [],
   "source": [
    "cam=cv2.VideoCapture(0)\n",
    "qrCodeDetector = cv2.QRCodeDetector()\n",
    "while True:\n",
    "    _,frame=cam.read()\n",
    "    cv2.imshow('frame',frame)\n",
    "    decodedText, points, _ = qrCodeDetector.detectAndDecode(frame)\n",
    "    k=cv2.waitKey(1)\n",
    "    if len(decodedText)!=0:\n",
    "        break\n",
    "    \n",
    "cv2.destroyAllWindows()\n",
    "cam.release()\n",
    "for i in range (len(compt_array)):\n",
    "    if str(compt_array[i]) == decodedText:\n",
    "        cn=i+1\n",
    "        break\n",
    "    if i==(len(compt_array)-1):\n",
    "        cn=-1\n"
   ]
  },
  {
   "cell_type": "code",
   "execution_count": 3,
   "id": "fcf271d3",
   "metadata": {},
   "outputs": [],
   "source": [
    "import serial\n",
    "import time\n",
    "arduino = serial.Serial(port='COM8', baudrate=115200, timeout=.1)\n",
    "# while True:\n",
    "#     arduino.write(bytes(str(cn), 'utf-8'))\n",
    "#     time.sleep(0.05)\n",
    "#     data = arduino.readline()\n"
   ]
  },
  {
   "cell_type": "code",
   "execution_count": 4,
   "id": "f3304a18",
   "metadata": {},
   "outputs": [],
   "source": [
    "def write_read(x):\n",
    "    arduino.write(bytes(x, 'utf-8'))\n",
    "    time.sleep(0.5)\n",
    "    data = arduino.readline()\n",
    "    return data\n",
    "#     num = input(\"Enter a number: \") # Taking input from user\n"
   ]
  },
  {
   "cell_type": "code",
   "execution_count": 33,
   "id": "7c8526c4",
   "metadata": {},
   "outputs": [],
   "source": [
    "cam.release()\n",
    "cv2.destroyAllWindows()"
   ]
  },
  {
   "cell_type": "code",
   "execution_count": 17,
   "id": "629c6ae7",
   "metadata": {},
   "outputs": [
    {
     "name": "stdout",
     "output_type": "stream",
     "text": [
      "b'Not Available'\n",
      "b'Not Available'\n"
     ]
    },
    {
     "ename": "KeyboardInterrupt",
     "evalue": "",
     "output_type": "error",
     "traceback": [
      "\u001b[1;31m---------------------------------------------------------------------------\u001b[0m",
      "\u001b[1;31mKeyboardInterrupt\u001b[0m                         Traceback (most recent call last)",
      "\u001b[1;32m<ipython-input-17-631f9e98f952>\u001b[0m in \u001b[0;36m<module>\u001b[1;34m\u001b[0m\n\u001b[0;32m      3\u001b[0m     \u001b[0mqrCodeDetector\u001b[0m \u001b[1;33m=\u001b[0m \u001b[0mcv2\u001b[0m\u001b[1;33m.\u001b[0m\u001b[0mQRCodeDetector\u001b[0m\u001b[1;33m(\u001b[0m\u001b[1;33m)\u001b[0m\u001b[1;33m\u001b[0m\u001b[1;33m\u001b[0m\u001b[0m\n\u001b[0;32m      4\u001b[0m     \u001b[1;32mwhile\u001b[0m \u001b[1;32mTrue\u001b[0m\u001b[1;33m:\u001b[0m\u001b[1;33m\u001b[0m\u001b[1;33m\u001b[0m\u001b[0m\n\u001b[1;32m----> 5\u001b[1;33m         \u001b[0m_\u001b[0m\u001b[1;33m,\u001b[0m\u001b[0mframe\u001b[0m\u001b[1;33m=\u001b[0m\u001b[0mcam\u001b[0m\u001b[1;33m.\u001b[0m\u001b[0mread\u001b[0m\u001b[1;33m(\u001b[0m\u001b[1;33m)\u001b[0m\u001b[1;33m\u001b[0m\u001b[1;33m\u001b[0m\u001b[0m\n\u001b[0m\u001b[0;32m      6\u001b[0m         \u001b[0mcv2\u001b[0m\u001b[1;33m.\u001b[0m\u001b[0mimshow\u001b[0m\u001b[1;33m(\u001b[0m\u001b[1;34m'frame'\u001b[0m\u001b[1;33m,\u001b[0m\u001b[0mframe\u001b[0m\u001b[1;33m)\u001b[0m\u001b[1;33m\u001b[0m\u001b[1;33m\u001b[0m\u001b[0m\n\u001b[0;32m      7\u001b[0m         \u001b[0mdecodedText\u001b[0m\u001b[1;33m,\u001b[0m \u001b[0mpoints\u001b[0m\u001b[1;33m,\u001b[0m \u001b[0m_\u001b[0m \u001b[1;33m=\u001b[0m \u001b[0mqrCodeDetector\u001b[0m\u001b[1;33m.\u001b[0m\u001b[0mdetectAndDecode\u001b[0m\u001b[1;33m(\u001b[0m\u001b[0mframe\u001b[0m\u001b[1;33m)\u001b[0m\u001b[1;33m\u001b[0m\u001b[1;33m\u001b[0m\u001b[0m\n",
      "\u001b[1;31mKeyboardInterrupt\u001b[0m: "
     ]
    }
   ],
   "source": [
    "\n",
    "while True:\n",
    "    cam=cv2.VideoCapture(0)\n",
    "    qrCodeDetector = cv2.QRCodeDetector()\n",
    "    while True:\n",
    "        _,frame=cam.read()\n",
    "        cv2.imshow('frame',frame)\n",
    "        decodedText, points, _ = qrCodeDetector.detectAndDecode(frame)\n",
    "        k=cv2.waitKey(1)\n",
    "        if len(decodedText)!=0:\n",
    "            break\n",
    "\n",
    "    cv2.destroyAllWindows()\n",
    "    cam.release()\n",
    "    for i in range (len(compt_array)):\n",
    "        if str(compt_array[i]) == decodedText:\n",
    "            cn=i+1\n",
    "            break\n",
    "        if i==(len(compt_array)-1):\n",
    "            cn=-1    \n",
    "    value = write_read(str(cn))\n",
    "    \n",
    "    print(value)\n",
    "    if str(value)!=\"b'Not Available'\":\n",
    "        for i in range (len(package_info)):\n",
    "            if package_info[i][-1]==compt_array[int(value)-1]:\n",
    "                package_info.pop(i)\n",
    "                compt_array[int(value)-1]=-1\n",
    "                break\n",
    "            \n",
    "    "
   ]
  },
  {
   "cell_type": "code",
   "execution_count": 16,
   "id": "c864facb",
   "metadata": {},
   "outputs": [],
   "source": [
    "cam.release()\n",
    "cv2.destroyAllWindows()"
   ]
  }
 ],
 "metadata": {
  "kernelspec": {
   "display_name": "Python 3",
   "language": "python",
   "name": "python3"
  },
  "language_info": {
   "codemirror_mode": {
    "name": "ipython",
    "version": 3
   },
   "file_extension": ".py",
   "mimetype": "text/x-python",
   "name": "python",
   "nbconvert_exporter": "python",
   "pygments_lexer": "ipython3",
   "version": "3.8.8"
  }
 },
 "nbformat": 4,
 "nbformat_minor": 5
}
